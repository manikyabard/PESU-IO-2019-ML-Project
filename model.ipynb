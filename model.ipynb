{
 "cells": [
  {
   "cell_type": "markdown",
   "metadata": {},
   "source": [
    "## Model Accuracy - 99.796%"
   ]
  },
  {
   "cell_type": "code",
   "execution_count": 1,
   "metadata": {},
   "outputs": [
    {
     "name": "stderr",
     "output_type": "stream",
     "text": [
      "Using TensorFlow backend.\n"
     ]
    }
   ],
   "source": [
    "import numpy as np\n",
    "from keras.models import Sequential\n",
    "from keras.layers import Dense\n",
    "from sklearn.model_selection import train_test_split\n",
    "from keras.utils import np_utils\n",
    "import pandas as pd\n",
    "from sklearn import preprocessing"
   ]
  },
  {
   "cell_type": "code",
   "execution_count": 2,
   "metadata": {
    "scrolled": true
   },
   "outputs": [],
   "source": [
    "data = pd.read_csv('weather_dataset.csv')"
   ]
  },
  {
   "cell_type": "code",
   "execution_count": 3,
   "metadata": {
    "scrolled": true
   },
   "outputs": [],
   "source": [
    "Y = data['RainTomorrowYes']"
   ]
  },
  {
   "cell_type": "code",
   "execution_count": 4,
   "metadata": {
    "scrolled": true
   },
   "outputs": [],
   "source": [
    "X = pd.DataFrame.drop(data,axis = 1,labels = ['RainTomorrowYes','RainTomorrowNo'])\n",
    "X.fillna(0,inplace = True)"
   ]
  },
  {
   "cell_type": "code",
   "execution_count": 5,
   "metadata": {
    "scrolled": true
   },
   "outputs": [],
   "source": [
    "X = preprocessing.normalize(X)"
   ]
  },
  {
   "cell_type": "code",
   "execution_count": 6,
   "metadata": {},
   "outputs": [],
   "source": [
    "Y_one_hot = np_utils.to_categorical(Y)"
   ]
  },
  {
   "cell_type": "code",
   "execution_count": 7,
   "metadata": {
    "scrolled": true
   },
   "outputs": [],
   "source": [
    "seed = 5\n",
    "X_train,X_test,Y_train,Y_test = train_test_split(X,Y_one_hot,test_size=0.20,random_state = seed)"
   ]
  },
  {
   "cell_type": "code",
   "execution_count": 8,
   "metadata": {},
   "outputs": [],
   "source": [
    "model = Sequential()"
   ]
  },
  {
   "cell_type": "code",
   "execution_count": 9,
   "metadata": {},
   "outputs": [
    {
     "name": "stdout",
     "output_type": "stream",
     "text": [
      "WARNING:tensorflow:From /home/manikya/anaconda3/lib/python3.7/site-packages/tensorflow/python/framework/op_def_library.py:263: colocate_with (from tensorflow.python.framework.ops) is deprecated and will be removed in a future version.\n",
      "Instructions for updating:\n",
      "Colocations handled automatically by placer.\n"
     ]
    }
   ],
   "source": [
    "model.add(Dense(15,input_dim=15,activation='sigmoid'))"
   ]
  },
  {
   "cell_type": "code",
   "execution_count": 10,
   "metadata": {},
   "outputs": [],
   "source": [
    "model.add(Dense(2,input_dim=15,activation='softmax'))"
   ]
  },
  {
   "cell_type": "code",
   "execution_count": 11,
   "metadata": {},
   "outputs": [],
   "source": [
    "model.compile(loss='binary_crossentropy',optimizer='adam',metrics=['accuracy'])"
   ]
  },
  {
   "cell_type": "code",
   "execution_count": 12,
   "metadata": {},
   "outputs": [
    {
     "name": "stdout",
     "output_type": "stream",
     "text": [
      "<bound method Network.summary of <keras.engine.sequential.Sequential object at 0x7fad624e7400>>\n"
     ]
    },
    {
     "data": {
      "text/plain": [
       "[<keras.layers.core.Dense at 0x7fad624e7320>,\n",
       " <keras.layers.core.Dense at 0x7fad624e72b0>]"
      ]
     },
     "execution_count": 12,
     "metadata": {},
     "output_type": "execute_result"
    }
   ],
   "source": [
    "print(model.summary)\n",
    "model.layers"
   ]
  },
  {
   "cell_type": "code",
   "execution_count": 13,
   "metadata": {
    "scrolled": true
   },
   "outputs": [
    {
     "name": "stdout",
     "output_type": "stream",
     "text": [
      "WARNING:tensorflow:From /home/manikya/anaconda3/lib/python3.7/site-packages/tensorflow/python/ops/math_ops.py:3066: to_int32 (from tensorflow.python.ops.math_ops) is deprecated and will be removed in a future version.\n",
      "Instructions for updating:\n",
      "Use tf.cast instead.\n",
      "Epoch 1/75\n",
      "113754/113754 [==============================] - 8s 66us/step - loss: 0.5061 - acc: 0.7784\n",
      "Epoch 2/75\n",
      "113754/113754 [==============================] - 7s 61us/step - loss: 0.4238 - acc: 0.8062\n",
      "Epoch 3/75\n",
      "113754/113754 [==============================] - 7s 63us/step - loss: 0.3412 - acc: 0.8505\n",
      "Epoch 4/75\n",
      "113754/113754 [==============================] - 7s 61us/step - loss: 0.2755 - acc: 0.8857\n",
      "Epoch 5/75\n",
      "113754/113754 [==============================] - 7s 61us/step - loss: 0.2248 - acc: 0.9102\n",
      "Epoch 6/75\n",
      "113754/113754 [==============================] - 7s 60us/step - loss: 0.1859 - acc: 0.9280\n",
      "Epoch 7/75\n",
      "113754/113754 [==============================] - 7s 61us/step - loss: 0.1560 - acc: 0.9407\n",
      "Epoch 8/75\n",
      "113754/113754 [==============================] - 7s 61us/step - loss: 0.1339 - acc: 0.9509\n",
      "Epoch 9/75\n",
      "113754/113754 [==============================] - 7s 62us/step - loss: 0.1166 - acc: 0.9582\n",
      "Epoch 10/75\n",
      "113754/113754 [==============================] - 7s 62us/step - loss: 0.1024 - acc: 0.9641\n",
      "Epoch 11/75\n",
      "113754/113754 [==============================] - 7s 60us/step - loss: 0.0912 - acc: 0.9687\n",
      "Epoch 12/75\n",
      "113754/113754 [==============================] - 7s 59us/step - loss: 0.0817 - acc: 0.9720\n",
      "Epoch 13/75\n",
      "113754/113754 [==============================] - 7s 63us/step - loss: 0.0737 - acc: 0.9756\n",
      "Epoch 14/75\n",
      "113754/113754 [==============================] - 7s 60us/step - loss: 0.0672 - acc: 0.9778\n",
      "Epoch 15/75\n",
      "113754/113754 [==============================] - 7s 59us/step - loss: 0.0615 - acc: 0.9801\n",
      "Epoch 16/75\n",
      "113754/113754 [==============================] - 7s 59us/step - loss: 0.0564 - acc: 0.9821\n",
      "Epoch 17/75\n",
      "113754/113754 [==============================] - 7s 59us/step - loss: 0.0522 - acc: 0.9839\n",
      "Epoch 18/75\n",
      "113754/113754 [==============================] - 7s 59us/step - loss: 0.0486 - acc: 0.9851\n",
      "Epoch 19/75\n",
      "113754/113754 [==============================] - 7s 59us/step - loss: 0.0455 - acc: 0.9864\n",
      "Epoch 20/75\n",
      "113754/113754 [==============================] - 7s 59us/step - loss: 0.0427 - acc: 0.9876\n",
      "Epoch 21/75\n",
      "113754/113754 [==============================] - 7s 60us/step - loss: 0.0403 - acc: 0.9886\n",
      "Epoch 22/75\n",
      "113754/113754 [==============================] - 7s 59us/step - loss: 0.0384 - acc: 0.9894\n",
      "Epoch 23/75\n",
      "113754/113754 [==============================] - 7s 60us/step - loss: 0.0365 - acc: 0.9899\n",
      "Epoch 24/75\n",
      "113754/113754 [==============================] - 7s 59us/step - loss: 0.0350 - acc: 0.9906\n",
      "Epoch 25/75\n",
      "113754/113754 [==============================] - 7s 60us/step - loss: 0.0333 - acc: 0.9916\n",
      "Epoch 26/75\n",
      "113754/113754 [==============================] - 7s 59us/step - loss: 0.0322 - acc: 0.9916\n",
      "Epoch 27/75\n",
      "113754/113754 [==============================] - 7s 59us/step - loss: 0.0309 - acc: 0.9924\n",
      "Epoch 28/75\n",
      "113754/113754 [==============================] - 7s 59us/step - loss: 0.0298 - acc: 0.9930\n",
      "Epoch 29/75\n",
      "113754/113754 [==============================] - 7s 59us/step - loss: 0.0289 - acc: 0.9931\n",
      "Epoch 30/75\n",
      "113754/113754 [==============================] - 7s 60us/step - loss: 0.0280 - acc: 0.9941\n",
      "Epoch 31/75\n",
      "113754/113754 [==============================] - 7s 59us/step - loss: 0.0272 - acc: 0.9943\n",
      "Epoch 32/75\n",
      "113754/113754 [==============================] - 7s 59us/step - loss: 0.0265 - acc: 0.9942\n",
      "Epoch 33/75\n",
      "113754/113754 [==============================] - 7s 59us/step - loss: 0.0257 - acc: 0.9945\n",
      "Epoch 34/75\n",
      "113754/113754 [==============================] - 7s 59us/step - loss: 0.0252 - acc: 0.9949\n",
      "Epoch 35/75\n",
      "113754/113754 [==============================] - 7s 59us/step - loss: 0.0246 - acc: 0.9949\n",
      "Epoch 36/75\n",
      "113754/113754 [==============================] - 7s 59us/step - loss: 0.0239 - acc: 0.9952\n",
      "Epoch 37/75\n",
      "113754/113754 [==============================] - 7s 59us/step - loss: 0.0235 - acc: 0.9954\n",
      "Epoch 38/75\n",
      "113754/113754 [==============================] - 7s 59us/step - loss: 0.0230 - acc: 0.9956\n",
      "Epoch 39/75\n",
      "113754/113754 [==============================] - 7s 59us/step - loss: 0.0225 - acc: 0.9957\n",
      "Epoch 40/75\n",
      "113754/113754 [==============================] - 7s 62us/step - loss: 0.0223 - acc: 0.9959\n",
      "Epoch 41/75\n",
      "113754/113754 [==============================] - 7s 65us/step - loss: 0.0217 - acc: 0.9959\n",
      "Epoch 42/75\n",
      "113754/113754 [==============================] - 7s 66us/step - loss: 0.0214 - acc: 0.9962\n",
      "Epoch 43/75\n",
      "113754/113754 [==============================] - 7s 61us/step - loss: 0.0210 - acc: 0.9963\n",
      "Epoch 44/75\n",
      "113754/113754 [==============================] - 7s 59us/step - loss: 0.0205 - acc: 0.9964\n",
      "Epoch 45/75\n",
      "113754/113754 [==============================] - 7s 60us/step - loss: 0.0203 - acc: 0.9964\n",
      "Epoch 46/75\n",
      "113754/113754 [==============================] - 7s 64us/step - loss: 0.0200 - acc: 0.9965\n",
      "Epoch 47/75\n",
      "113754/113754 [==============================] - 8s 66us/step - loss: 0.0198 - acc: 0.9968\n",
      "Epoch 48/75\n",
      "113754/113754 [==============================] - 7s 64us/step - loss: 0.0195 - acc: 0.9967\n",
      "Epoch 49/75\n",
      "113754/113754 [==============================] - 7s 64us/step - loss: 0.0192 - acc: 0.9965\n",
      "Epoch 50/75\n",
      "113754/113754 [==============================] - 7s 63us/step - loss: 0.0190 - acc: 0.9968\n",
      "Epoch 51/75\n",
      "113754/113754 [==============================] - 7s 64us/step - loss: 0.0188 - acc: 0.9967\n",
      "Epoch 52/75\n",
      "113754/113754 [==============================] - 7s 65us/step - loss: 0.0186 - acc: 0.9968\n",
      "Epoch 53/75\n",
      "113754/113754 [==============================] - 7s 63us/step - loss: 0.0181 - acc: 0.9973\n",
      "Epoch 54/75\n",
      "113754/113754 [==============================] - 7s 60us/step - loss: 0.0181 - acc: 0.9970\n",
      "Epoch 55/75\n",
      "113754/113754 [==============================] - 7s 62us/step - loss: 0.0178 - acc: 0.9969\n",
      "Epoch 56/75\n",
      "113754/113754 [==============================] - 7s 64us/step - loss: 0.0176 - acc: 0.9973\n",
      "Epoch 57/75\n",
      "113754/113754 [==============================] - 7s 61us/step - loss: 0.0175 - acc: 0.9972\n",
      "Epoch 58/75\n",
      "113754/113754 [==============================] - 7s 59us/step - loss: 0.0173 - acc: 0.9973\n",
      "Epoch 59/75\n",
      "113754/113754 [==============================] - 7s 63us/step - loss: 0.0170 - acc: 0.9972\n",
      "Epoch 60/75\n",
      "113754/113754 [==============================] - 7s 64us/step - loss: 0.0169 - acc: 0.9974\n",
      "Epoch 61/75\n",
      "113754/113754 [==============================] - 7s 59us/step - loss: 0.0168 - acc: 0.9973\n",
      "Epoch 62/75\n",
      "113754/113754 [==============================] - 7s 59us/step - loss: 0.0166 - acc: 0.9973\n",
      "Epoch 63/75\n",
      "113754/113754 [==============================] - 7s 59us/step - loss: 0.0164 - acc: 0.9974\n",
      "Epoch 64/75\n",
      "113754/113754 [==============================] - 7s 66us/step - loss: 0.0163 - acc: 0.9973\n",
      "Epoch 65/75\n",
      "113754/113754 [==============================] - 7s 62us/step - loss: 0.0162 - acc: 0.9975\n",
      "Epoch 66/75\n",
      "113754/113754 [==============================] - 7s 65us/step - loss: 0.0161 - acc: 0.9973\n",
      "Epoch 67/75\n",
      "113754/113754 [==============================] - 7s 65us/step - loss: 0.0159 - acc: 0.9975\n",
      "Epoch 68/75\n",
      "113754/113754 [==============================] - 8s 67us/step - loss: 0.0158 - acc: 0.9974\n",
      "Epoch 69/75\n",
      "113754/113754 [==============================] - 7s 65us/step - loss: 0.0155 - acc: 0.9976\n",
      "Epoch 70/75\n",
      "113754/113754 [==============================] - 8s 66us/step - loss: 0.0154 - acc: 0.9978\n",
      "Epoch 71/75\n",
      "113754/113754 [==============================] - 7s 65us/step - loss: 0.0152 - acc: 0.9977\n",
      "Epoch 72/75\n",
      "113754/113754 [==============================] - 7s 65us/step - loss: 0.0151 - acc: 0.9978\n",
      "Epoch 73/75\n",
      "113754/113754 [==============================] - 7s 66us/step - loss: 0.0149 - acc: 0.9980\n",
      "Epoch 74/75\n",
      "113754/113754 [==============================] - 8s 70us/step - loss: 0.0149 - acc: 0.9977: 0s - loss: 0.0149 -\n",
      "Epoch 75/75\n",
      "113754/113754 [==============================] - 8s 69us/step - loss: 0.0149 - acc: 0.9977\n"
     ]
    }
   ],
   "source": [
    "trained = model.fit(X_train,Y_train,epochs=75,batch_size=10, verbose=1)"
   ]
  },
  {
   "cell_type": "code",
   "execution_count": 17,
   "metadata": {},
   "outputs": [
    {
     "name": "stdout",
     "output_type": "stream",
     "text": [
      "Trained model accuracy : 99.771\n"
     ]
    }
   ],
   "source": [
    "print(\"Trained model accuracy : %2.3f\"%(trained.history['acc'][74]*100))"
   ]
  },
  {
   "cell_type": "code",
   "execution_count": 18,
   "metadata": {},
   "outputs": [
    {
     "name": "stdout",
     "output_type": "stream",
     "text": [
      "28439/28439 [==============================] - 1s 27us/step\n"
     ]
    }
   ],
   "source": [
    "score = model.evaluate(X_test,Y_test,batch_size=10)"
   ]
  },
  {
   "cell_type": "code",
   "execution_count": 19,
   "metadata": {},
   "outputs": [
    {
     "name": "stdout",
     "output_type": "stream",
     "text": [
      "Accuracy on testset : 99.796\n"
     ]
    }
   ],
   "source": [
    "print(\"Accuracy on testset : %2.3f\"%(score[1]*100))"
   ]
  },
  {
   "cell_type": "code",
   "execution_count": null,
   "metadata": {},
   "outputs": [],
   "source": []
  }
 ],
 "metadata": {
  "kernelspec": {
   "display_name": "Python 3",
   "language": "python",
   "name": "python3"
  },
  "language_info": {
   "codemirror_mode": {
    "name": "ipython",
    "version": 3
   },
   "file_extension": ".py",
   "mimetype": "text/x-python",
   "name": "python",
   "nbconvert_exporter": "python",
   "pygments_lexer": "ipython3",
   "version": "3.7.1"
  }
 },
 "nbformat": 4,
 "nbformat_minor": 2
}
