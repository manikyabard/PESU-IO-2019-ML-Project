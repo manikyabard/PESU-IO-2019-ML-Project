{
 "cells": [
  {
   "cell_type": "code",
   "execution_count": 1,
   "metadata": {},
   "outputs": [],
   "source": [
    "import bs4 as bs\n",
    "import lxml\n",
    "import urllib.request\n",
    "import pandas as pd"
   ]
  },
  {
   "cell_type": "code",
   "execution_count": 2,
   "metadata": {},
   "outputs": [],
   "source": [
    "sauce = urllib.request.urlopen('https://karki23.github.io/Weather-Data/assignment.html').read()\n",
    "srccode = bs.BeautifulSoup(sauce,'lxml')\n",
    "all_cities = srccode.find_all('a')"
   ]
  },
  {
   "cell_type": "code",
   "execution_count": 3,
   "metadata": {
    "scrolled": true
   },
   "outputs": [],
   "source": [
    "city = list()\n",
    "for x in range(len(all_cities)):\n",
    "    city.append('https://karki23.github.io/Weather-Data/'+ all_cities[x].get('href'))"
   ]
  },
  {
   "cell_type": "code",
   "execution_count": 4,
   "metadata": {},
   "outputs": [],
   "source": [
    "for y in range(len(city)):\n",
    "    data = pd.read_html(city[y])[0]\n",
    "    data.to_csv('dataset/'+all_cities[y].text, header = False, index = False )      "
   ]
  }
 ],
 "metadata": {
  "kernelspec": {
   "display_name": "Python 3",
   "language": "python",
   "name": "python3"
  },
  "language_info": {
   "codemirror_mode": {
    "name": "ipython",
    "version": 3
   },
   "file_extension": ".py",
   "mimetype": "text/x-python",
   "name": "python",
   "nbconvert_exporter": "python",
   "pygments_lexer": "ipython3",
   "version": "3.7.1"
  }
 },
 "nbformat": 4,
 "nbformat_minor": 2
}
